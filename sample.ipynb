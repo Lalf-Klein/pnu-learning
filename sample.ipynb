{
 "cells": [
  {
   "cell_type": "code",
   "execution_count": 1,
   "id": "3f656307-e777-49c3-af94-8d11b4b7ba0e",
   "metadata": {},
   "outputs": [],
   "source": [
    "import numpy as np\n",
    "import matplotlib.pyplot as plt\n",
    "import torch\n",
    "import torchvision\n",
    "import torchvision.transforms as transforms\n",
    "import torch.nn as nn\n",
    "import torch.nn.functional as F\n",
    "import torch.optim as optim\n",
    "from torch.utils.data import Subset\n",
    "from pnu_learning import PNULearning\n",
    "%matplotlib inline"
   ]
  },
  {
   "cell_type": "code",
   "execution_count": 2,
   "id": "5133879e-848c-4d7d-864d-c35334d74b0e",
   "metadata": {},
   "outputs": [
    {
     "name": "stdout",
     "output_type": "stream",
     "text": [
      "Files already downloaded and verified\n"
     ]
    }
   ],
   "source": [
    "transform = transforms.Compose([transforms.ToTensor()])\n",
    "trainset = torchvision.datasets.CIFAR10(root='./data', train=True, download=True, transform=transform)"
   ]
  },
  {
   "cell_type": "code",
   "execution_count": 3,
   "id": "0f0b9a54-a743-4fe4-8885-e1ba338abddc",
   "metadata": {},
   "outputs": [
    {
     "name": "stdout",
     "output_type": "stream",
     "text": [
      "Files already downloaded and verified\n"
     ]
    }
   ],
   "source": [
    "testset = torchvision.datasets.CIFAR10(root='./data', train=False, download=True, transform=transform)"
   ]
  },
  {
   "cell_type": "code",
   "execution_count": 4,
   "id": "8f990919-5fff-4548-85ec-1a8f3c8153e3",
   "metadata": {},
   "outputs": [
    {
     "data": {
      "text/plain": [
       "Dataset CIFAR10\n",
       "    Number of datapoints: 10000\n",
       "    Root location: ./data\n",
       "    Split: Test\n",
       "    StandardTransform\n",
       "Transform: Compose(\n",
       "               ToTensor()\n",
       "           )"
      ]
     },
     "execution_count": 4,
     "metadata": {},
     "output_type": "execute_result"
    }
   ],
   "source": [
    "testset"
   ]
  },
  {
   "cell_type": "code",
   "execution_count": 5,
   "id": "2f25b4e8-20c2-4c9c-9546-527f2017228e",
   "metadata": {},
   "outputs": [
    {
     "data": {
      "text/plain": [
       "Dataset CIFAR10\n",
       "    Number of datapoints: 50000\n",
       "    Root location: ./data\n",
       "    Split: Train\n",
       "    StandardTransform\n",
       "Transform: Compose(\n",
       "               ToTensor()\n",
       "           )"
      ]
     },
     "execution_count": 5,
     "metadata": {},
     "output_type": "execute_result"
    }
   ],
   "source": [
    "trainset"
   ]
  },
  {
   "cell_type": "code",
   "execution_count": 6,
   "id": "8a4fc95f-f110-4382-aa57-0f99680b391a",
   "metadata": {},
   "outputs": [],
   "source": [
    "x_train, y_train = trainset.data, trainset.targets"
   ]
  },
  {
   "cell_type": "code",
   "execution_count": 7,
   "id": "9a36f082-d65a-4e44-9b8f-adb8c86efc3e",
   "metadata": {},
   "outputs": [],
   "source": [
    "x_test, y_test = testset.data, testset.targets"
   ]
  },
  {
   "cell_type": "code",
   "execution_count": 8,
   "id": "cd38ffbd-c134-4a51-bab2-966bda0351bf",
   "metadata": {},
   "outputs": [],
   "source": [
    "#label = {0, 1}だけのデータで2値分類に\n",
    "x_train = np.array(x_train).astype(np.float32) / 255.\n",
    "y_train = np.array(y_train).reshape(-1)\n",
    "x_train = x_train[y_train<=1]\n",
    "y_train = y_train[y_train<=1]\n",
    "y_train = [-1 if y==0 else 1 for y in y_train]\n",
    "y_train = np.array(y_train).astype(np.int32)\n",
    "x_test = np.array(x_test).astype(np.float32) / 255.\n",
    "y_test = np.array(y_test).reshape(-1)\n",
    "x_test = x_test[y_test<=1]\n",
    "y_test = y_test[y_test<=1]\n",
    "y_test = [-1 if y==0 else 1 for y in y_test]\n",
    "y_test = np.array(y_test).astype(np.int32)\n",
    "\n",
    "n_train = len(y_train)                  \n",
    "negative, positive = np.unique(y_train)\n",
    "n_p = (y_train == positive).sum() \n",
    "prior = float(n_p) / float(n_train)\n",
    "\n",
    "input_shape = x_train.shape[1:]\n",
    "\n",
    "n_labeled = 100\n",
    "n_unlabeled = n_train - n_labeled \n",
    "\n",
    "n_p_labeled = int(prior * n_labeled)\n",
    "n_n_labeled = n_labeled - n_p_labeled\n",
    "\n",
    "np.random.seed(seed=46)\n",
    "#ランダムに入れ替えて、先頭からn_labeledのデータのみラベルを残す\n",
    "perm = np.random.permutation(n_train)\n",
    "x_train = x_train[perm]\n",
    "y_train = y_train[perm]\n",
    "\n",
    "x_p_labeled = x_train[y_train == positive][:n_p_labeled]\n",
    "x_n_labeled = x_train[y_train == negative][:n_n_labeled]\n",
    "\n",
    "x_p_unlabeled = x_train[y_train == positive][n_p_labeled:]\n",
    "x_n_unlabeled = x_train[y_train == negative][n_n_labeled:]\n",
    "\n",
    "x_train = np.concatenate((x_p_labeled, x_n_labeled, x_p_unlabeled, x_n_unlabeled), axis=0)\n",
    "y_train = np.concatenate((np.ones(n_p_labeled), -np.ones(n_n_labeled), np.zeros(n_unlabeled)), axis=0)"
   ]
  },
  {
   "cell_type": "code",
   "execution_count": 9,
   "id": "7ac4a626-2247-4200-853e-ed61e59f3273",
   "metadata": {
    "tags": []
   },
   "outputs": [],
   "source": [
    "class CNNModel(nn.Module):\n",
    "    def __init__(self, input_shape):\n",
    "        super().__init__()\n",
    "        self.convv1 = nn.Conv2d(3, 96, 3, padding=\"same\")\n",
    "        self.batchnorm2d1 = nn.BatchNorm2d(96)\n",
    "        self.convv2 = nn.Conv2d(96, 192, 3, padding=\"same\")\n",
    "        self.batchnorm2d2 = nn.BatchNorm2d(192)\n",
    "        self.convv3 = nn.Conv2d(192, 192, 3, padding=\"same\")\n",
    "        self.batchnorm2d3 = nn.BatchNorm2d(192)\n",
    "        self.convv4 = nn.Conv2d(192, 10, 1, padding=\"same\")\n",
    "        self.batchnorm2d4 = nn.BatchNorm2d(10)\n",
    "        self.flatten = nn.Flatten()\n",
    "        self.fc1 = nn.Linear(10*input_shape[-1]*input_shape[-1], 512)\n",
    "        self.batchnorm1d1 = nn.BatchNorm1d(512)\n",
    "        self.fc2 = nn.Linear(512, 128)\n",
    "        self.batchnorm1d2 = nn.BatchNorm1d(128)\n",
    "        self.fc3 = nn.Linear(128, 1)\n",
    "    \n",
    "    def forward(self, x):\n",
    "        #print(x.is_cuda)\n",
    "        x = self.convv1(x)\n",
    "        x = self.batchnorm2d1(x)\n",
    "        x = F.relu(x)\n",
    "        x = self.convv2(x)\n",
    "        x = self.batchnorm2d2(x)\n",
    "        x = F.relu(x)\n",
    "        x = self.convv3(x)\n",
    "        x = self.batchnorm2d3(x)\n",
    "        x = F.relu(x)\n",
    "        x = self.convv4(x)\n",
    "        x = self.batchnorm2d4(x)\n",
    "        x = F.relu(x) \n",
    "        x = self.flatten(x)\n",
    "        x = self.fc1(x)\n",
    "        x = self.batchnorm1d1(x)\n",
    "        x = F.relu(x)\n",
    "        x = self.fc2(x)\n",
    "        x = self.batchnorm1d2(x)\n",
    "        x = F.relu(x)\n",
    "        x = self.fc3(x)\n",
    "        return x\n",
    "    "
   ]
  },
  {
   "cell_type": "code",
   "execution_count": 10,
   "id": "139b89b0-5995-4c02-a819-5792f1bb4a16",
   "metadata": {},
   "outputs": [],
   "source": [
    "input_shape = [3, 32, 32]\n",
    "model = CNNModel(input_shape)\n",
    "loss_func = torch.sigmoid\n",
    "optimizer = optim.Adam\n",
    "lr = 1e-5\n",
    "n_epoch = 10\n",
    "batch_size = 1000\n",
    "\n",
    "p_ratio = 0.5\n",
    "eta = 0.2"
   ]
  },
  {
   "cell_type": "code",
   "execution_count": 11,
   "id": "b6a6e197-22b9-402b-9a30-542c3504afbc",
   "metadata": {},
   "outputs": [
    {
     "name": "stdout",
     "output_type": "stream",
     "text": [
      "cuda:0\n"
     ]
    }
   ],
   "source": [
    "device = torch.device(\"cuda:0\" if torch.cuda.is_available() else \"cpu\")\n",
    "print(device)"
   ]
  },
  {
   "cell_type": "code",
   "execution_count": 12,
   "id": "789f22f6-3d75-4ec1-aac6-f9f5c3a908ab",
   "metadata": {},
   "outputs": [],
   "source": [
    "learner = PNULearning(model=model, loss_func=loss_func, optimizer=optimizer, lr=lr, p_ratio=p_ratio, eta=eta, device=device)"
   ]
  },
  {
   "cell_type": "code",
   "execution_count": 13,
   "id": "202fdbc0-996c-44b1-bda4-2b0ceb19e667",
   "metadata": {},
   "outputs": [
    {
     "name": "stdout",
     "output_type": "stream",
     "text": [
      "epoch: 1/10\n",
      "loss: 0.4677, acc: 0.6932, precision: 0.6458, recall: 0.9167\n",
      "loss: 0.4777, acc: 0.6621, precision: 0.6528, recall: 0.8968\n",
      "loss: 0.4762, acc: 0.6216, precision: 0.5729, recall: 0.9226\n",
      "loss: 0.4849, acc: 0.5639, precision: 0.5250, recall: 0.8581\n",
      "loss: 0.4823, acc: 0.5853, precision: 0.5625, recall: 0.8401\n",
      "loss: 0.4771, acc: 0.6006, precision: 0.5638, recall: 0.8344\n",
      "loss: 0.4856, acc: 0.5791, precision: 0.5433, recall: 0.8134\n",
      "loss: 0.4797, acc: 0.6100, precision: 0.5663, recall: 0.8341\n",
      "loss: 0.4811, acc: 0.6308, precision: 0.5954, recall: 0.8364\n",
      "test_loss: 0.3951, test_acc: 0.5000, test_precision: 0.5000, test_recall: 1.0000\n",
      "epoch: 2/10\n",
      "loss: 0.3507, acc: 0.8636, precision: 0.8125, recall: 1.0000\n",
      "loss: 0.3475, acc: 0.9091, precision: 0.8750, recall: 1.0000\n",
      "loss: 0.3392, acc: 0.8902, precision: 0.8705, recall: 0.9643\n",
      "loss: 0.3378, acc: 0.8814, precision: 0.8464, recall: 0.9714\n",
      "loss: 0.3188, acc: 0.9011, precision: 0.8720, recall: 0.9762\n",
      "loss: 0.3244, acc: 0.8914, precision: 0.8617, recall: 0.9796\n",
      "loss: 0.3199, acc: 0.9050, precision: 0.8790, recall: 0.9821\n",
      "loss: 0.3139, acc: 0.9156, precision: 0.8925, recall: 0.9841\n",
      "loss: 0.3131, acc: 0.9064, precision: 0.8732, recall: 0.9857\n",
      "test_loss: 0.3865, test_acc: 0.5000, test_precision: 0.5000, test_recall: 1.0000\n",
      "epoch: 3/10\n",
      "loss: 0.2639, acc: 1.0000, precision: 1.0000, recall: 1.0000\n",
      "loss: 0.2578, acc: 1.0000, precision: 1.0000, recall: 1.0000\n",
      "loss: 0.2546, acc: 0.9375, precision: 0.7500, recall: 1.0000\n",
      "loss: 0.2520, acc: 0.9500, precision: 0.8000, recall: 1.0000\n",
      "loss: 0.2429, acc: 0.9464, precision: 0.8056, recall: 1.0000\n",
      "loss: 0.2430, acc: 0.9411, precision: 0.8095, recall: 1.0000\n",
      "loss: 0.2463, acc: 0.9172, precision: 0.7917, recall: 1.0000\n",
      "loss: 0.2466, acc: 0.9264, precision: 0.8148, recall: 1.0000\n",
      "loss: 0.2403, acc: 0.9338, precision: 0.8333, recall: 1.0000\n",
      "test_loss: 0.3723, test_acc: 0.6780, test_precision: 0.6163, test_recall: 0.9430\n",
      "epoch: 4/10\n",
      "loss: 0.1913, acc: 1.0000, precision: 1.0000, recall: 1.0000\n",
      "loss: 0.1837, acc: 1.0000, precision: 1.0000, recall: 1.0000\n",
      "loss: 0.1860, acc: 1.0000, precision: 1.0000, recall: 1.0000\n",
      "loss: 0.1900, acc: 1.0000, precision: 1.0000, recall: 1.0000\n",
      "loss: 0.1929, acc: 1.0000, precision: 1.0000, recall: 1.0000\n",
      "loss: 0.1836, acc: 1.0000, precision: 1.0000, recall: 1.0000\n",
      "loss: 0.1828, acc: 1.0000, precision: 1.0000, recall: 1.0000\n",
      "loss: 0.1823, acc: 0.9877, precision: 0.9778, recall: 1.0000\n",
      "loss: 0.1799, acc: 0.9889, precision: 0.9800, recall: 1.0000\n",
      "test_loss: 0.3333, test_acc: 0.7920, test_precision: 0.7719, test_recall: 0.8290\n",
      "epoch: 5/10\n",
      "loss: 0.1597, acc: 1.0000, precision: 1.0000, recall: 1.0000\n",
      "loss: 0.1517, acc: 1.0000, precision: 1.0000, recall: 1.0000\n",
      "loss: 0.1713, acc: 1.0000, precision: 1.0000, recall: 1.0000\n",
      "loss: 0.1621, acc: 1.0000, precision: 1.0000, recall: 1.0000\n",
      "loss: 0.1565, acc: 1.0000, precision: 1.0000, recall: 1.0000\n",
      "loss: 0.1553, acc: 1.0000, precision: 1.0000, recall: 1.0000\n",
      "loss: 0.1533, acc: 1.0000, precision: 1.0000, recall: 1.0000\n",
      "loss: 0.1504, acc: 1.0000, precision: 1.0000, recall: 1.0000\n",
      "loss: 0.1517, acc: 1.0000, precision: 1.0000, recall: 1.0000\n",
      "test_loss: 0.2867, test_acc: 0.8170, test_precision: 0.7908, test_recall: 0.8620\n",
      "epoch: 6/10\n",
      "loss: 0.1383, acc: 1.0000, precision: 1.0000, recall: 1.0000\n",
      "loss: 0.1342, acc: 1.0000, precision: 1.0000, recall: 1.0000\n",
      "loss: 0.1303, acc: 1.0000, precision: 1.0000, recall: 1.0000\n",
      "loss: 0.1216, acc: 1.0000, precision: 1.0000, recall: 1.0000\n",
      "loss: 0.1217, acc: 1.0000, precision: 1.0000, recall: 1.0000\n",
      "loss: 0.1203, acc: 1.0000, precision: 1.0000, recall: 1.0000\n",
      "loss: 0.1124, acc: 1.0000, precision: 1.0000, recall: 1.0000\n",
      "loss: 0.1112, acc: 1.0000, precision: 1.0000, recall: 1.0000\n",
      "loss: 0.1118, acc: 1.0000, precision: 1.0000, recall: 1.0000\n",
      "test_loss: 0.2592, test_acc: 0.8260, test_precision: 0.7890, test_recall: 0.8900\n",
      "epoch: 7/10\n",
      "loss: 0.1023, acc: 1.0000, precision: 1.0000, recall: 1.0000\n",
      "loss: 0.0979, acc: 1.0000, precision: 1.0000, recall: 1.0000\n",
      "loss: 0.0960, acc: 1.0000, precision: 1.0000, recall: 1.0000\n",
      "loss: 0.0944, acc: 1.0000, precision: 1.0000, recall: 1.0000\n",
      "loss: 0.0924, acc: 1.0000, precision: 1.0000, recall: 1.0000\n",
      "loss: 0.0987, acc: 1.0000, precision: 1.0000, recall: 1.0000\n",
      "loss: 0.0989, acc: 1.0000, precision: 1.0000, recall: 1.0000\n",
      "loss: 0.0972, acc: 1.0000, precision: 1.0000, recall: 1.0000\n",
      "loss: 0.0978, acc: 1.0000, precision: 1.0000, recall: 1.0000\n",
      "test_loss: 0.2459, test_acc: 0.8265, test_precision: 0.7872, test_recall: 0.8950\n",
      "epoch: 8/10\n",
      "loss: 0.0757, acc: 1.0000, precision: 1.0000, recall: 1.0000\n",
      "loss: 0.0955, acc: 1.0000, precision: 1.0000, recall: 1.0000\n",
      "loss: 0.0957, acc: 1.0000, precision: 1.0000, recall: 1.0000\n",
      "loss: 0.0938, acc: 1.0000, precision: 1.0000, recall: 1.0000\n",
      "loss: 0.0907, acc: 1.0000, precision: 1.0000, recall: 1.0000\n",
      "loss: 0.0877, acc: 1.0000, precision: 1.0000, recall: 1.0000\n",
      "loss: 0.0871, acc: 1.0000, precision: 1.0000, recall: 1.0000\n",
      "loss: 0.0882, acc: 1.0000, precision: 1.0000, recall: 1.0000\n",
      "loss: 0.0866, acc: 1.0000, precision: 1.0000, recall: 1.0000\n",
      "test_loss: 0.2347, test_acc: 0.8275, test_precision: 0.7885, test_recall: 0.8950\n",
      "epoch: 9/10\n",
      "loss: 0.0628, acc: 1.0000, precision: 1.0000, recall: 1.0000\n",
      "loss: 0.0691, acc: 1.0000, precision: 1.0000, recall: 1.0000\n",
      "loss: 0.0684, acc: 1.0000, precision: 1.0000, recall: 1.0000\n",
      "loss: 0.0720, acc: 1.0000, precision: 1.0000, recall: 1.0000\n",
      "loss: 0.0695, acc: 1.0000, precision: 1.0000, recall: 1.0000\n",
      "loss: 0.0687, acc: 1.0000, precision: 1.0000, recall: 1.0000\n",
      "loss: 0.0689, acc: 1.0000, precision: 1.0000, recall: 1.0000\n",
      "loss: 0.0699, acc: 1.0000, precision: 1.0000, recall: 1.0000\n",
      "loss: 0.0703, acc: 1.0000, precision: 1.0000, recall: 1.0000\n",
      "test_loss: 0.2296, test_acc: 0.8320, test_precision: 0.7970, test_recall: 0.8910\n",
      "epoch: 10/10\n",
      "loss: 0.0751, acc: 1.0000, precision: 1.0000, recall: 1.0000\n",
      "loss: 0.0688, acc: 1.0000, precision: 1.0000, recall: 1.0000\n",
      "loss: 0.0695, acc: 1.0000, precision: 1.0000, recall: 1.0000\n",
      "loss: 0.0687, acc: 1.0000, precision: 1.0000, recall: 1.0000\n",
      "loss: 0.0675, acc: 1.0000, precision: 1.0000, recall: 1.0000\n",
      "loss: 0.0679, acc: 1.0000, precision: 1.0000, recall: 1.0000\n",
      "loss: 0.0657, acc: 1.0000, precision: 1.0000, recall: 1.0000\n",
      "loss: 0.0655, acc: 1.0000, precision: 1.0000, recall: 1.0000\n",
      "loss: 0.0654, acc: 1.0000, precision: 1.0000, recall: 1.0000\n",
      "test_loss: 0.2309, test_acc: 0.8285, test_precision: 0.7915, test_recall: 0.8920\n"
     ]
    }
   ],
   "source": [
    "train_loss_history, train_acc_history, train_precision_history, train_recall_history, \\\n",
    "    test_loss_history, test_acc_history, test_precision_history, test_recall_history = learner.fit(x_train, y_train, x_test, y_test, n_epoch, batch_size, threshold=0, verbose=1)"
   ]
  },
  {
   "cell_type": "code",
   "execution_count": 14,
   "id": "c0d78bb8-07e1-4b3e-92bb-d868f1d0d654",
   "metadata": {},
   "outputs": [
    {
     "data": {
      "image/png": "[encoded data removed]",
      "text/plain": [
       "<Figure size 432x288 with 1 Axes>"
      ]
     },
     "metadata": {
      "needs_background": "light"
     },
     "output_type": "display_data"
    }
   ],
   "source": [
    "plt.plot([i+1 for i in range(n_epoch)], train_loss_history, label=\"train_loss\")\n",
    "plt.plot([i+1 for i in range(n_epoch)], test_loss_history, label=\"test_loss\")\n",
    "plt.legend()\n",
    "plt.show()"
   ]
  },
  {
   "cell_type": "code",
   "execution_count": 15,
   "id": "61f27996-6ea4-42f4-ab18-7f1728bd1319",
   "metadata": {},
   "outputs": [
    {
     "data": {
      "image/png": "[encoded data removed]",
      "text/plain": [
       "<Figure size 432x288 with 1 Axes>"
      ]
     },
     "metadata": {
      "needs_background": "light"
     },
     "output_type": "display_data"
    }
   ],
   "source": [
    "plt.plot([i+1 for i in range(n_epoch)], train_acc_history, label=\"train_accuracy\")\n",
    "plt.plot([i+1 for i in range(n_epoch)], test_acc_history, label=\"test_accuracy\")\n",
    "plt.ylim(0, 1.1)\n",
    "plt.legend()\n",
    "plt.show()"
   ]
  },
  {
   "cell_type": "code",
   "execution_count": 16,
   "id": "2f5e45fc-6315-44bb-8244-23e3ecd75381",
   "metadata": {},
   "outputs": [
    {
     "data": {
      "image/png": "[encoded data removed]",
      "text/plain": [
       "<Figure size 432x288 with 1 Axes>"
      ]
     },
     "metadata": {
      "needs_background": "light"
     },
     "output_type": "display_data"
    }
   ],
   "source": [
    "plt.plot([i+1 for i in range(n_epoch)], train_precision_history, label=\"train_precision\")\n",
    "plt.plot([i+1 for i in range(n_epoch)], test_precision_history, label=\"test_precision\")\n",
    "plt.ylim(0, 1.1)\n",
    "plt.legend()\n",
    "plt.show()"
   ]
  },
  {
   "cell_type": "code",
   "execution_count": 17,
   "id": "9b8531f9-f330-40e9-b884-3d2819b289df",
   "metadata": {},
   "outputs": [
    {
     "data": {
      "image/png": "[encoded data removed]",
      "text/plain": [
       "<Figure size 432x288 with 1 Axes>"
      ]
     },
     "metadata": {
      "needs_background": "light"
     },
     "output_type": "display_data"
    }
   ],
   "source": [
    "plt.plot([i+1 for i in range(n_epoch)], train_recall_history, label=\"train_recall\")\n",
    "plt.plot([i+1 for i in range(n_epoch)], test_recall_history, label=\"test_recall\")\n",
    "plt.ylim(0, 1.1)\n",
    "plt.legend()\n",
    "plt.show()"
   ]
  },
  {
   "cell_type": "code",
   "execution_count": 18,
   "id": "75b2625f-4c8d-4884-9c9e-ceb57b33ea61",
   "metadata": {},
   "outputs": [],
   "source": [
    "pred = learner.predict(x_test)"
   ]
  },
  {
   "cell_type": "code",
   "execution_count": 19,
   "id": "36964677-0826-48cf-a41a-21d75763a946",
   "metadata": {},
   "outputs": [
    {
     "name": "stdout",
     "output_type": "stream",
     "text": [
      "torch.Size([2000])\n"
     ]
    }
   ],
   "source": [
    "print(pred.shape)"
   ]
  },
  {
   "cell_type": "code",
   "execution_count": null,
   "id": "e387006e-e26d-408b-9310-468f4498adf9",
   "metadata": {},
   "outputs": [],
   "source": []
  }
 ],
 "metadata": {
  "environment": {
   "kernel": "python3",
   "name": "pytorch-gpu.1-10.m87",
   "type": "gcloud",
   "uri": "gcr.io/deeplearning-platform-release/pytorch-gpu.1-10:m87"
  },
  "kernelspec": {
   "display_name": "Python 3",
   "language": "python",
   "name": "python3"
  },
  "language_info": {
   "codemirror_mode": {
    "name": "ipython",
    "version": 3
   },
   "file_extension": ".py",
   "mimetype": "text/x-python",
   "name": "python",
   "nbconvert_exporter": "python",
   "pygments_lexer": "ipython3",
   "version": "3.7.12"
  }
 },
 "nbformat": 4,
 "nbformat_minor": 5
}
