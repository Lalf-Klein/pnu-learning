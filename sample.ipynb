{
 "cells": [
  {
   "cell_type": "code",
   "execution_count": 1,
   "id": "3f656307-e777-49c3-af94-8d11b4b7ba0e",
   "metadata": {},
   "outputs": [],
   "source": [
    "import numpy as np\n",
    "import matplotlib.pyplot as plt\n",
    "import torch\n",
    "import torchvision\n",
    "import torchvision.transforms as transforms\n",
    "import torch.nn as nn\n",
    "import torch.nn.functional as F\n",
    "import torch.optim as optim\n",
    "from torch.utils.data import Subset\n",
    "from pnu_learning import PNULearning\n",
    "%matplotlib inline"
   ]
  },
  {
   "cell_type": "code",
   "execution_count": 2,
   "id": "5133879e-848c-4d7d-864d-c35334d74b0e",
   "metadata": {},
   "outputs": [
    {
     "name": "stdout",
     "output_type": "stream",
     "text": [
      "Files already downloaded and verified\n"
     ]
    }
   ],
   "source": [
    "transform = transforms.Compose([transforms.ToTensor()])\n",
    "trainset = torchvision.datasets.CIFAR10(root='./data', train=True, download=True, transform=transform)"
   ]
  },
  {
   "cell_type": "code",
   "execution_count": 3,
   "id": "0f0b9a54-a743-4fe4-8885-e1ba338abddc",
   "metadata": {},
   "outputs": [
    {
     "name": "stdout",
     "output_type": "stream",
     "text": [
      "Files already downloaded and verified\n"
     ]
    }
   ],
   "source": [
    "testset = torchvision.datasets.CIFAR10(root='./data', train=False, download=True, transform=transform)"
   ]
  },
  {
   "cell_type": "code",
   "execution_count": 4,
   "id": "8f990919-5fff-4548-85ec-1a8f3c8153e3",
   "metadata": {},
   "outputs": [
    {
     "data": {
      "text/plain": [
       "Dataset CIFAR10\n",
       "    Number of datapoints: 10000\n",
       "    Root location: ./data\n",
       "    Split: Test\n",
       "    StandardTransform\n",
       "Transform: Compose(\n",
       "               ToTensor()\n",
       "           )"
      ]
     },
     "execution_count": 4,
     "metadata": {},
     "output_type": "execute_result"
    }
   ],
   "source": [
    "testset"
   ]
  },
  {
   "cell_type": "code",
   "execution_count": 5,
   "id": "2f25b4e8-20c2-4c9c-9546-527f2017228e",
   "metadata": {},
   "outputs": [
    {
     "data": {
      "text/plain": [
       "Dataset CIFAR10\n",
       "    Number of datapoints: 50000\n",
       "    Root location: ./data\n",
       "    Split: Train\n",
       "    StandardTransform\n",
       "Transform: Compose(\n",
       "               ToTensor()\n",
       "           )"
      ]
     },
     "execution_count": 5,
     "metadata": {},
     "output_type": "execute_result"
    }
   ],
   "source": [
    "trainset"
   ]
  },
  {
   "cell_type": "code",
   "execution_count": 6,
   "id": "8a4fc95f-f110-4382-aa57-0f99680b391a",
   "metadata": {},
   "outputs": [],
   "source": [
    "x_train, y_train = trainset.data, trainset.targets"
   ]
  },
  {
   "cell_type": "code",
   "execution_count": 7,
   "id": "9a36f082-d65a-4e44-9b8f-adb8c86efc3e",
   "metadata": {},
   "outputs": [],
   "source": [
    "x_test, y_test = testset.data, testset.targets"
   ]
  },
  {
   "cell_type": "code",
   "execution_count": 8,
   "id": "cd38ffbd-c134-4a51-bab2-966bda0351bf",
   "metadata": {},
   "outputs": [],
   "source": [
    "#label = {0, 1}だけのデータで2値分類に\n",
    "x_train = np.array(x_train).astype(np.float32) / 255.\n",
    "y_train = np.array(y_train).reshape(-1)\n",
    "x_train = x_train[y_train<=1]\n",
    "y_train = y_train[y_train<=1]\n",
    "y_train = [-1 if y==0 else 1 for y in y_train]\n",
    "y_train = np.array(y_train).astype(np.int32)\n",
    "x_test = np.array(x_test).astype(np.float32) / 255.\n",
    "y_test = np.array(y_test).reshape(-1)\n",
    "x_test = x_test[y_test<=1]\n",
    "y_test = y_test[y_test<=1]\n",
    "y_test = [-1 if y==0 else 1 for y in y_test]\n",
    "y_test = np.array(y_test).astype(np.int32)\n",
    "\n",
    "n_train = len(y_train)                  \n",
    "negative, positive = np.unique(y_train)\n",
    "n_p = (y_train == positive).sum() \n",
    "prior = float(n_p) / float(n_train)\n",
    "\n",
    "input_shape = x_train.shape[1:]\n",
    "\n",
    "n_labeled = 100\n",
    "n_unlabeled = n_train - n_labeled \n",
    "\n",
    "n_p_labeled = int(prior * n_labeled)\n",
    "n_n_labeled = n_labeled - n_p_labeled\n",
    "\n",
    "np.random.seed(seed=46)\n",
    "#ランダムに入れ替えて、先頭からn_labeledのデータのみラベルを残す\n",
    "perm = np.random.permutation(n_train)\n",
    "x_train = x_train[perm]\n",
    "y_train = y_train[perm]\n",
    "\n",
    "x_p_labeled = x_train[y_train == positive][:n_p_labeled]\n",
    "x_n_labeled = x_train[y_train == negative][:n_n_labeled]\n",
    "\n",
    "x_p_unlabeled = x_train[y_train == positive][n_p_labeled:]\n",
    "x_n_unlabeled = x_train[y_train == negative][n_n_labeled:]\n",
    "\n",
    "x_train = np.concatenate((x_p_labeled, x_n_labeled, x_p_unlabeled, x_n_unlabeled), axis=0)\n",
    "y_train = np.concatenate((np.ones(n_p_labeled), -np.ones(n_n_labeled), np.zeros(n_unlabeled)), axis=0)"
   ]
  },
  {
   "cell_type": "code",
   "execution_count": 9,
   "id": "7ac4a626-2247-4200-853e-ed61e59f3273",
   "metadata": {
    "tags": []
   },
   "outputs": [],
   "source": [
    "class CNNModel(nn.Module):\n",
    "    def __init__(self, input_shape):\n",
    "        super().__init__()\n",
    "        self.convv1 = nn.Conv2d(3, 96, 3, padding=\"same\")\n",
    "        self.batchnorm2d1 = nn.BatchNorm2d(96)\n",
    "        self.convv2 = nn.Conv2d(96, 192, 3, padding=\"same\")\n",
    "        self.batchnorm2d2 = nn.BatchNorm2d(192)\n",
    "        self.convv3 = nn.Conv2d(192, 192, 3, padding=\"same\")\n",
    "        self.batchnorm2d3 = nn.BatchNorm2d(192)\n",
    "        self.convv4 = nn.Conv2d(192, 10, 1, padding=\"same\")\n",
    "        self.batchnorm2d4 = nn.BatchNorm2d(10)\n",
    "        self.flatten = nn.Flatten()\n",
    "        self.fc1 = nn.Linear(10*input_shape[-1]*input_shape[-1], 512)\n",
    "        self.batchnorm1d1 = nn.BatchNorm1d(512)\n",
    "        self.fc2 = nn.Linear(512, 128)\n",
    "        self.batchnorm1d2 = nn.BatchNorm1d(128)\n",
    "        self.fc3 = nn.Linear(128, 1)\n",
    "    \n",
    "    def forward(self, x):\n",
    "        #print(x.is_cuda)\n",
    "        x = self.convv1(x)\n",
    "        x = self.batchnorm2d1(x)\n",
    "        x = F.relu(x)\n",
    "        x = self.convv2(x)\n",
    "        x = self.batchnorm2d2(x)\n",
    "        x = F.relu(x)\n",
    "        x = self.convv3(x)\n",
    "        x = self.batchnorm2d3(x)\n",
    "        x = F.relu(x)\n",
    "        x = self.convv4(x)\n",
    "        x = self.batchnorm2d4(x)\n",
    "        x = F.relu(x) \n",
    "        x = self.flatten(x)\n",
    "        x = self.fc1(x)\n",
    "        x = self.batchnorm1d1(x)\n",
    "        x = F.relu(x)\n",
    "        x = self.fc2(x)\n",
    "        x = self.batchnorm1d2(x)\n",
    "        x = F.relu(x)\n",
    "        x = self.fc3(x)\n",
    "        return x\n",
    "    "
   ]
  },
  {
   "cell_type": "code",
   "execution_count": 10,
   "id": "139b89b0-5995-4c02-a819-5792f1bb4a16",
   "metadata": {},
   "outputs": [],
   "source": [
    "model = CNNModel\n",
    "loss_func = torch.sigmoid\n",
    "optimizer = optim.Adam\n",
    "lr = 1e-5\n",
    "n_epoch = 10\n",
    "batch_size = 1000\n",
    "input_shape = [3, 32, 32]\n",
    "p_ratio = 0.5\n",
    "eta = 0.2"
   ]
  },
  {
   "cell_type": "code",
   "execution_count": 11,
   "id": "b6a6e197-22b9-402b-9a30-542c3504afbc",
   "metadata": {},
   "outputs": [
    {
     "name": "stdout",
     "output_type": "stream",
     "text": [
      "cuda:0\n"
     ]
    }
   ],
   "source": [
    "device = torch.device(\"cuda:0\" if torch.cuda.is_available() else \"cpu\")\n",
    "print(device)"
   ]
  },
  {
   "cell_type": "code",
   "execution_count": 12,
   "id": "789f22f6-3d75-4ec1-aac6-f9f5c3a908ab",
   "metadata": {},
   "outputs": [],
   "source": [
    "learner = PNULearning(model=model, loss_func=loss_func, optimizer=optimizer, lr=lr, \n",
    "                     input_shape=input_shape, p_ratio=p_ratio, eta=eta, device=device)"
   ]
  },
  {
   "cell_type": "code",
   "execution_count": 13,
   "id": "202fdbc0-996c-44b1-bda4-2b0ceb19e667",
   "metadata": {},
   "outputs": [
    {
     "name": "stdout",
     "output_type": "stream",
     "text": [
      "epoch: 1/10\n",
      "loss: 0.4804, acc: 0.5682, precision: 0.6894, recall: 0.6875\n",
      "loss: 0.4776, acc: 0.5788, precision: 0.6596, recall: 0.6583\n",
      "loss: 0.4833, acc: 0.5591, precision: 0.6197, recall: 0.6813\n",
      "loss: 0.4791, acc: 0.5745, precision: 0.6158, recall: 0.7450\n",
      "loss: 0.4777, acc: 0.5788, precision: 0.5798, recall: 0.7319\n",
      "loss: 0.4780, acc: 0.5854, precision: 0.5786, recall: 0.7702\n",
      "loss: 0.4854, acc: 0.5622, precision: 0.5479, recall: 0.7365\n",
      "loss: 0.4823, acc: 0.5604, precision: 0.5315, recall: 0.7102\n",
      "loss: 0.4766, acc: 0.5710, precision: 0.5384, recall: 0.7392\n",
      "test_loss: 0.3980, test_acc: 0.5055, test_precision: 0.5028, test_recall: 0.9970\n",
      "epoch: 2/10\n",
      "loss: 0.3131, acc: 0.8831, precision: 0.8167, recall: 1.0000\n",
      "loss: 0.3227, acc: 0.8615, precision: 0.8222, recall: 0.9444\n",
      "loss: 0.3142, acc: 0.8961, precision: 0.8667, recall: 0.9583\n",
      "loss: 0.3000, acc: 0.9026, precision: 0.8711, recall: 0.9667\n",
      "loss: 0.2838, acc: 0.9188, precision: 0.8926, recall: 0.9722\n",
      "loss: 0.2778, acc: 0.9304, precision: 0.9079, recall: 0.9762\n",
      "loss: 0.2803, acc: 0.9391, precision: 0.9194, recall: 0.9792\n",
      "loss: 0.2794, acc: 0.9459, precision: 0.9284, recall: 0.9815\n",
      "loss: 0.2747, acc: 0.9513, precision: 0.9356, recall: 0.9833\n",
      "test_loss: 0.3933, test_acc: 0.6795, test_precision: 0.8368, test_recall: 0.4460\n",
      "epoch: 3/10\n",
      "loss: 0.2212, acc: 0.9500, precision: 0.8750, recall: 1.0000\n",
      "loss: 0.1903, acc: 0.9667, precision: 0.9167, recall: 1.0000\n",
      "loss: 0.1882, acc: 0.9750, precision: 0.9375, recall: 1.0000\n",
      "loss: 0.1888, acc: 0.9646, precision: 0.9250, recall: 1.0000\n",
      "loss: 0.1880, acc: 0.9705, precision: 0.9375, recall: 1.0000\n",
      "loss: 0.1876, acc: 0.9747, precision: 0.9464, recall: 1.0000\n",
      "loss: 0.1919, acc: 0.9779, precision: 0.9531, recall: 1.0000\n",
      "loss: 0.1904, acc: 0.9702, precision: 0.9398, recall: 1.0000\n",
      "loss: 0.1949, acc: 0.9732, precision: 0.9458, recall: 1.0000\n",
      "test_loss: 0.3617, test_acc: 0.7530, test_precision: 0.8364, test_recall: 0.6290\n",
      "epoch: 4/10\n",
      "loss: 0.1621, acc: 1.0000, precision: 1.0000, recall: 1.0000\n",
      "loss: 0.1501, acc: 1.0000, precision: 1.0000, recall: 1.0000\n",
      "loss: 0.1433, acc: 1.0000, precision: 1.0000, recall: 1.0000\n",
      "loss: 0.1437, acc: 1.0000, precision: 1.0000, recall: 1.0000\n",
      "loss: 0.1403, acc: 1.0000, precision: 1.0000, recall: 1.0000\n",
      "loss: 0.1396, acc: 1.0000, precision: 1.0000, recall: 1.0000\n",
      "loss: 0.1422, acc: 1.0000, precision: 1.0000, recall: 1.0000\n",
      "loss: 0.1410, acc: 1.0000, precision: 1.0000, recall: 1.0000\n",
      "loss: 0.1350, acc: 1.0000, precision: 1.0000, recall: 1.0000\n",
      "test_loss: 0.3090, test_acc: 0.8150, test_precision: 0.8023, test_recall: 0.8360\n",
      "epoch: 5/10\n",
      "loss: 0.1074, acc: 1.0000, precision: 1.0000, recall: 1.0000\n",
      "loss: 0.1059, acc: 1.0000, precision: 1.0000, recall: 1.0000\n",
      "loss: 0.1137, acc: 1.0000, precision: 1.0000, recall: 1.0000\n",
      "loss: 0.1133, acc: 1.0000, precision: 1.0000, recall: 1.0000\n",
      "loss: 0.1125, acc: 1.0000, precision: 1.0000, recall: 1.0000\n",
      "loss: 0.1103, acc: 1.0000, precision: 1.0000, recall: 1.0000\n",
      "loss: 0.1101, acc: 1.0000, precision: 1.0000, recall: 1.0000\n",
      "loss: 0.1125, acc: 1.0000, precision: 1.0000, recall: 1.0000\n",
      "loss: 0.1098, acc: 1.0000, precision: 1.0000, recall: 1.0000\n",
      "test_loss: 0.2670, test_acc: 0.8145, test_precision: 0.7747, test_recall: 0.8870\n",
      "epoch: 6/10\n",
      "loss: 0.0977, acc: 1.0000, precision: 1.0000, recall: 1.0000\n",
      "loss: 0.0965, acc: 1.0000, precision: 1.0000, recall: 1.0000\n",
      "loss: 0.0969, acc: 1.0000, precision: 1.0000, recall: 1.0000\n",
      "loss: 0.0921, acc: 1.0000, precision: 1.0000, recall: 1.0000\n",
      "loss: 0.0932, acc: 1.0000, precision: 1.0000, recall: 1.0000\n",
      "loss: 0.0931, acc: 1.0000, precision: 1.0000, recall: 1.0000\n",
      "loss: 0.0900, acc: 1.0000, precision: 1.0000, recall: 1.0000\n",
      "loss: 0.0883, acc: 1.0000, precision: 1.0000, recall: 1.0000\n",
      "loss: 0.0912, acc: 1.0000, precision: 1.0000, recall: 1.0000\n",
      "test_loss: 0.2422, test_acc: 0.8205, test_precision: 0.7742, test_recall: 0.9050\n",
      "epoch: 7/10\n",
      "loss: 0.0777, acc: 1.0000, precision: 1.0000, recall: 1.0000\n",
      "loss: 0.0724, acc: 1.0000, precision: 1.0000, recall: 1.0000\n",
      "loss: 0.0696, acc: 1.0000, precision: 1.0000, recall: 1.0000\n",
      "loss: 0.0702, acc: 1.0000, precision: 1.0000, recall: 1.0000\n",
      "loss: 0.0719, acc: 1.0000, precision: 1.0000, recall: 1.0000\n",
      "loss: 0.0737, acc: 1.0000, precision: 1.0000, recall: 1.0000\n",
      "loss: 0.0706, acc: 1.0000, precision: 1.0000, recall: 1.0000\n",
      "loss: 0.0713, acc: 1.0000, precision: 1.0000, recall: 1.0000\n",
      "loss: 0.0742, acc: 1.0000, precision: 1.0000, recall: 1.0000\n",
      "test_loss: 0.2362, test_acc: 0.8240, test_precision: 0.7760, test_recall: 0.9110\n",
      "epoch: 8/10\n",
      "loss: 0.0743, acc: 1.0000, precision: 1.0000, recall: 1.0000\n",
      "loss: 0.0723, acc: 1.0000, precision: 1.0000, recall: 1.0000\n",
      "loss: 0.0720, acc: 1.0000, precision: 1.0000, recall: 1.0000\n",
      "loss: 0.0684, acc: 1.0000, precision: 1.0000, recall: 1.0000\n",
      "loss: 0.0681, acc: 1.0000, precision: 1.0000, recall: 1.0000\n",
      "loss: 0.0688, acc: 1.0000, precision: 1.0000, recall: 1.0000\n",
      "loss: 0.0672, acc: 1.0000, precision: 1.0000, recall: 1.0000\n",
      "loss: 0.0654, acc: 1.0000, precision: 1.0000, recall: 1.0000\n",
      "loss: 0.0653, acc: 1.0000, precision: 1.0000, recall: 1.0000\n",
      "test_loss: 0.2302, test_acc: 0.8285, test_precision: 0.7815, test_recall: 0.9120\n",
      "epoch: 9/10\n",
      "loss: 0.0561, acc: 1.0000, precision: 1.0000, recall: 1.0000\n",
      "loss: 0.0576, acc: 1.0000, precision: 1.0000, recall: 1.0000\n",
      "loss: 0.0597, acc: 1.0000, precision: 1.0000, recall: 1.0000\n",
      "loss: 0.0569, acc: 1.0000, precision: 1.0000, recall: 1.0000\n",
      "loss: 0.0550, acc: 1.0000, precision: 1.0000, recall: 1.0000\n",
      "loss: 0.0552, acc: 1.0000, precision: 1.0000, recall: 1.0000\n",
      "loss: 0.0569, acc: 1.0000, precision: 1.0000, recall: 1.0000\n",
      "loss: 0.0579, acc: 1.0000, precision: 1.0000, recall: 1.0000\n",
      "loss: 0.0572, acc: 1.0000, precision: 1.0000, recall: 1.0000\n",
      "test_loss: 0.2255, test_acc: 0.8310, test_precision: 0.7878, test_recall: 0.9060\n",
      "epoch: 10/10\n",
      "loss: 0.0583, acc: 1.0000, precision: 1.0000, recall: 1.0000\n",
      "loss: 0.0542, acc: 1.0000, precision: 1.0000, recall: 1.0000\n",
      "loss: 0.0522, acc: 1.0000, precision: 1.0000, recall: 1.0000\n",
      "loss: 0.0496, acc: 1.0000, precision: 1.0000, recall: 1.0000\n",
      "loss: 0.0493, acc: 1.0000, precision: 1.0000, recall: 1.0000\n",
      "loss: 0.0500, acc: 1.0000, precision: 1.0000, recall: 1.0000\n",
      "loss: 0.0500, acc: 1.0000, precision: 1.0000, recall: 1.0000\n",
      "loss: 0.0511, acc: 1.0000, precision: 1.0000, recall: 1.0000\n",
      "loss: 0.0515, acc: 1.0000, precision: 1.0000, recall: 1.0000\n",
      "test_loss: 0.2228, test_acc: 0.8285, test_precision: 0.7859, test_recall: 0.9030\n"
     ]
    }
   ],
   "source": [
    "train_loss_history, train_acc_history, train_precision_history, train_recall_history, \\\n",
    "    test_loss_history, test_acc_history, test_precision_history, test_recall_history = learner.fit(x_train, y_train, x_test, y_test, n_epoch, batch_size, threshold=0, verbose=1)"
   ]
  },
  {
   "cell_type": "code",
   "execution_count": 14,
   "id": "c0d78bb8-07e1-4b3e-92bb-d868f1d0d654",
   "metadata": {},
   "outputs": [
    {
     "data": {
      "image/png": "[encoded data removed]",
      "text/plain": [
       "<Figure size 432x288 with 1 Axes>"
      ]
     },
     "metadata": {
      "needs_background": "light"
     },
     "output_type": "display_data"
    }
   ],
   "source": [
    "plt.plot([i+1 for i in range(n_epoch)], train_loss_history, label=\"train_loss\")\n",
    "plt.plot([i+1 for i in range(n_epoch)], test_loss_history, label=\"test_loss\")\n",
    "plt.legend()\n",
    "plt.show()"
   ]
  },
  {
   "cell_type": "code",
   "execution_count": 15,
   "id": "61f27996-6ea4-42f4-ab18-7f1728bd1319",
   "metadata": {},
   "outputs": [
    {
     "data": {
      "image/png": "[encoded data removed]",
      "text/plain": [
       "<Figure size 432x288 with 1 Axes>"
      ]
     },
     "metadata": {
      "needs_background": "light"
     },
     "output_type": "display_data"
    }
   ],
   "source": [
    "plt.plot([i+1 for i in range(n_epoch)], train_acc_history, label=\"train_accuracy\")\n",
    "plt.plot([i+1 for i in range(n_epoch)], test_acc_history, label=\"test_accuracy\")\n",
    "plt.ylim(0, 1.1)\n",
    "plt.legend()\n",
    "plt.show()"
   ]
  },
  {
   "cell_type": "code",
   "execution_count": 16,
   "id": "2f5e45fc-6315-44bb-8244-23e3ecd75381",
   "metadata": {},
   "outputs": [
    {
     "data": {
      "image/png": "[encoded data removed]",
      "text/plain": [
       "<Figure size 432x288 with 1 Axes>"
      ]
     },
     "metadata": {
      "needs_background": "light"
     },
     "output_type": "display_data"
    }
   ],
   "source": [
    "plt.plot([i+1 for i in range(n_epoch)], train_precision_history, label=\"train_precision\")\n",
    "plt.plot([i+1 for i in range(n_epoch)], test_precision_history, label=\"test_precision\")\n",
    "plt.ylim(0, 1.1)\n",
    "plt.legend()\n",
    "plt.show()"
   ]
  },
  {
   "cell_type": "code",
   "execution_count": 17,
   "id": "9b8531f9-f330-40e9-b884-3d2819b289df",
   "metadata": {},
   "outputs": [
    {
     "data": {
      "image/png": "[encoded data removed]",
      "text/plain": [
       "<Figure size 432x288 with 1 Axes>"
      ]
     },
     "metadata": {
      "needs_background": "light"
     },
     "output_type": "display_data"
    }
   ],
   "source": [
    "plt.plot([i+1 for i in range(n_epoch)], train_recall_history, label=\"train_recall\")\n",
    "plt.plot([i+1 for i in range(n_epoch)], test_recall_history, label=\"test_recall\")\n",
    "plt.ylim(0, 1.1)\n",
    "plt.legend()\n",
    "plt.show()"
   ]
  }
 ],
 "metadata": {
  "environment": {
   "kernel": "python3",
   "name": "pytorch-gpu.1-10.m87",
   "type": "gcloud",
   "uri": "gcr.io/deeplearning-platform-release/pytorch-gpu.1-10:m87"
  },
  "kernelspec": {
   "display_name": "Python 3",
   "language": "python",
   "name": "python3"
  },
  "language_info": {
   "codemirror_mode": {
    "name": "ipython",
    "version": 3
   },
   "file_extension": ".py",
   "mimetype": "text/x-python",
   "name": "python",
   "nbconvert_exporter": "python",
   "pygments_lexer": "ipython3",
   "version": "3.7.12"
  }
 },
 "nbformat": 4,
 "nbformat_minor": 5
}
